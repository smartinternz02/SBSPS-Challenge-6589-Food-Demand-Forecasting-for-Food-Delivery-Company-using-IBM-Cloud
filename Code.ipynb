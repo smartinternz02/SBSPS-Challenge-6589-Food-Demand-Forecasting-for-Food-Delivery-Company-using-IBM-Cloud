{
 "cells": [
  {
   "cell_type": "code",
   "execution_count": 74,
   "id": "e42c4942",
   "metadata": {},
   "outputs": [],
   "source": [
    "#importing the required libraries\n",
    "import pandas as pd\n",
    "import numpy as np\n",
    "import seaborn as sns\n",
    "import matplotlib.pyplot as plt"
   ]
  },
  {
   "cell_type": "code",
   "execution_count": 75,
   "id": "d9ecc8d7",
   "metadata": {},
   "outputs": [],
   "source": [
    "#Reading the Dataset\n",
    "train=pd.read_csv(\"C:\\\\Users\\\\Lenovo\\\\Desktop\\\\Dataset\\\\train.csv\")\n",
    "test=pd.read_csv(\"C:\\\\Users\\\\Lenovo\\\\Desktop\\\\Dataset\\\\test.csv\")"
   ]
  },
  {
   "cell_type": "code",
   "execution_count": 76,
   "id": "da80df3c",
   "metadata": {},
   "outputs": [],
   "source": [
    "#Exploratory Data Analysis\n"
   ]
  },
  {
   "cell_type": "code",
   "execution_count": 77,
   "id": "c4893fb4",
   "metadata": {},
   "outputs": [
    {
     "data": {
      "text/html": [
       "<div>\n",
       "<style scoped>\n",
       "    .dataframe tbody tr th:only-of-type {\n",
       "        vertical-align: middle;\n",
       "    }\n",
       "\n",
       "    .dataframe tbody tr th {\n",
       "        vertical-align: top;\n",
       "    }\n",
       "\n",
       "    .dataframe thead th {\n",
       "        text-align: right;\n",
       "    }\n",
       "</style>\n",
       "<table border=\"1\" class=\"dataframe\">\n",
       "  <thead>\n",
       "    <tr style=\"text-align: right;\">\n",
       "      <th></th>\n",
       "      <th>id</th>\n",
       "      <th>week</th>\n",
       "      <th>center_id</th>\n",
       "      <th>meal_id</th>\n",
       "      <th>checkout_price</th>\n",
       "      <th>base_price</th>\n",
       "      <th>emailer_for_promotion</th>\n",
       "      <th>homepage_featured</th>\n",
       "      <th>num_orders</th>\n",
       "    </tr>\n",
       "  </thead>\n",
       "  <tbody>\n",
       "    <tr>\n",
       "      <th>0</th>\n",
       "      <td>1379560</td>\n",
       "      <td>1</td>\n",
       "      <td>55</td>\n",
       "      <td>1885</td>\n",
       "      <td>136.83</td>\n",
       "      <td>152.29</td>\n",
       "      <td>0</td>\n",
       "      <td>0</td>\n",
       "      <td>177</td>\n",
       "    </tr>\n",
       "    <tr>\n",
       "      <th>1</th>\n",
       "      <td>1466964</td>\n",
       "      <td>1</td>\n",
       "      <td>55</td>\n",
       "      <td>1993</td>\n",
       "      <td>136.83</td>\n",
       "      <td>135.83</td>\n",
       "      <td>0</td>\n",
       "      <td>0</td>\n",
       "      <td>270</td>\n",
       "    </tr>\n",
       "    <tr>\n",
       "      <th>2</th>\n",
       "      <td>1346989</td>\n",
       "      <td>1</td>\n",
       "      <td>55</td>\n",
       "      <td>2539</td>\n",
       "      <td>134.86</td>\n",
       "      <td>135.86</td>\n",
       "      <td>0</td>\n",
       "      <td>0</td>\n",
       "      <td>189</td>\n",
       "    </tr>\n",
       "    <tr>\n",
       "      <th>3</th>\n",
       "      <td>1338232</td>\n",
       "      <td>1</td>\n",
       "      <td>55</td>\n",
       "      <td>2139</td>\n",
       "      <td>339.50</td>\n",
       "      <td>437.53</td>\n",
       "      <td>0</td>\n",
       "      <td>0</td>\n",
       "      <td>54</td>\n",
       "    </tr>\n",
       "    <tr>\n",
       "      <th>4</th>\n",
       "      <td>1448490</td>\n",
       "      <td>1</td>\n",
       "      <td>55</td>\n",
       "      <td>2631</td>\n",
       "      <td>243.50</td>\n",
       "      <td>242.50</td>\n",
       "      <td>0</td>\n",
       "      <td>0</td>\n",
       "      <td>40</td>\n",
       "    </tr>\n",
       "  </tbody>\n",
       "</table>\n",
       "</div>"
      ],
      "text/plain": [
       "        id  week  center_id  meal_id  checkout_price  base_price  \\\n",
       "0  1379560     1         55     1885          136.83      152.29   \n",
       "1  1466964     1         55     1993          136.83      135.83   \n",
       "2  1346989     1         55     2539          134.86      135.86   \n",
       "3  1338232     1         55     2139          339.50      437.53   \n",
       "4  1448490     1         55     2631          243.50      242.50   \n",
       "\n",
       "   emailer_for_promotion  homepage_featured  num_orders  \n",
       "0                      0                  0         177  \n",
       "1                      0                  0         270  \n",
       "2                      0                  0         189  \n",
       "3                      0                  0          54  \n",
       "4                      0                  0          40  "
      ]
     },
     "execution_count": 77,
     "metadata": {},
     "output_type": "execute_result"
    }
   ],
   "source": [
    "##To check first five columns\n",
    "train.head()"
   ]
  },
  {
   "cell_type": "code",
   "execution_count": 78,
   "id": "e16a7e80",
   "metadata": {},
   "outputs": [
    {
     "data": {
      "text/html": [
       "<div>\n",
       "<style scoped>\n",
       "    .dataframe tbody tr th:only-of-type {\n",
       "        vertical-align: middle;\n",
       "    }\n",
       "\n",
       "    .dataframe tbody tr th {\n",
       "        vertical-align: top;\n",
       "    }\n",
       "\n",
       "    .dataframe thead th {\n",
       "        text-align: right;\n",
       "    }\n",
       "</style>\n",
       "<table border=\"1\" class=\"dataframe\">\n",
       "  <thead>\n",
       "    <tr style=\"text-align: right;\">\n",
       "      <th></th>\n",
       "      <th>id</th>\n",
       "      <th>week</th>\n",
       "      <th>center_id</th>\n",
       "      <th>meal_id</th>\n",
       "      <th>checkout_price</th>\n",
       "      <th>base_price</th>\n",
       "      <th>emailer_for_promotion</th>\n",
       "      <th>homepage_featured</th>\n",
       "    </tr>\n",
       "  </thead>\n",
       "  <tbody>\n",
       "    <tr>\n",
       "      <th>0</th>\n",
       "      <td>1028232</td>\n",
       "      <td>146</td>\n",
       "      <td>55</td>\n",
       "      <td>1885</td>\n",
       "      <td>158.11</td>\n",
       "      <td>159.11</td>\n",
       "      <td>0</td>\n",
       "      <td>0</td>\n",
       "    </tr>\n",
       "    <tr>\n",
       "      <th>1</th>\n",
       "      <td>1127204</td>\n",
       "      <td>146</td>\n",
       "      <td>55</td>\n",
       "      <td>1993</td>\n",
       "      <td>160.11</td>\n",
       "      <td>159.11</td>\n",
       "      <td>0</td>\n",
       "      <td>0</td>\n",
       "    </tr>\n",
       "    <tr>\n",
       "      <th>2</th>\n",
       "      <td>1212707</td>\n",
       "      <td>146</td>\n",
       "      <td>55</td>\n",
       "      <td>2539</td>\n",
       "      <td>157.14</td>\n",
       "      <td>159.14</td>\n",
       "      <td>0</td>\n",
       "      <td>0</td>\n",
       "    </tr>\n",
       "    <tr>\n",
       "      <th>3</th>\n",
       "      <td>1082698</td>\n",
       "      <td>146</td>\n",
       "      <td>55</td>\n",
       "      <td>2631</td>\n",
       "      <td>162.02</td>\n",
       "      <td>162.02</td>\n",
       "      <td>0</td>\n",
       "      <td>0</td>\n",
       "    </tr>\n",
       "    <tr>\n",
       "      <th>4</th>\n",
       "      <td>1400926</td>\n",
       "      <td>146</td>\n",
       "      <td>55</td>\n",
       "      <td>1248</td>\n",
       "      <td>163.93</td>\n",
       "      <td>163.93</td>\n",
       "      <td>0</td>\n",
       "      <td>0</td>\n",
       "    </tr>\n",
       "  </tbody>\n",
       "</table>\n",
       "</div>"
      ],
      "text/plain": [
       "        id  week  center_id  meal_id  checkout_price  base_price  \\\n",
       "0  1028232   146         55     1885          158.11      159.11   \n",
       "1  1127204   146         55     1993          160.11      159.11   \n",
       "2  1212707   146         55     2539          157.14      159.14   \n",
       "3  1082698   146         55     2631          162.02      162.02   \n",
       "4  1400926   146         55     1248          163.93      163.93   \n",
       "\n",
       "   emailer_for_promotion  homepage_featured  \n",
       "0                      0                  0  \n",
       "1                      0                  0  \n",
       "2                      0                  0  \n",
       "3                      0                  0  \n",
       "4                      0                  0  "
      ]
     },
     "execution_count": 78,
     "metadata": {},
     "output_type": "execute_result"
    }
   ],
   "source": [
    "test.head()"
   ]
  },
  {
   "cell_type": "code",
   "execution_count": 79,
   "id": "ce296ad9",
   "metadata": {},
   "outputs": [
    {
     "name": "stdout",
     "output_type": "stream",
     "text": [
      "<class 'pandas.core.frame.DataFrame'>\n",
      "RangeIndex: 456548 entries, 0 to 456547\n",
      "Data columns (total 9 columns):\n",
      " #   Column                 Non-Null Count   Dtype  \n",
      "---  ------                 --------------   -----  \n",
      " 0   id                     456548 non-null  int64  \n",
      " 1   week                   456548 non-null  int64  \n",
      " 2   center_id              456548 non-null  int64  \n",
      " 3   meal_id                456548 non-null  int64  \n",
      " 4   checkout_price         456548 non-null  float64\n",
      " 5   base_price             456548 non-null  float64\n",
      " 6   emailer_for_promotion  456548 non-null  int64  \n",
      " 7   homepage_featured      456548 non-null  int64  \n",
      " 8   num_orders             456548 non-null  int64  \n",
      "dtypes: float64(2), int64(7)\n",
      "memory usage: 31.3 MB\n"
     ]
    }
   ],
   "source": [
    "#To check how the dataset is\n",
    "train.info()"
   ]
  },
  {
   "cell_type": "code",
   "execution_count": 80,
   "id": "0fa0828c",
   "metadata": {},
   "outputs": [
    {
     "data": {
      "text/plain": [
       "count    456548.000000\n",
       "mean        261.872760\n",
       "std         395.922798\n",
       "min          13.000000\n",
       "25%          54.000000\n",
       "50%         136.000000\n",
       "75%         324.000000\n",
       "max       24299.000000\n",
       "Name: num_orders, dtype: float64"
      ]
     },
     "execution_count": 80,
     "metadata": {},
     "output_type": "execute_result"
    }
   ],
   "source": [
    "#describe()-Give summary of numeric data types by giving their mean,min,maax,etc\n",
    "train['num_orders'].describe()"
   ]
  },
  {
   "cell_type": "code",
   "execution_count": 81,
   "id": "2bf8d691",
   "metadata": {},
   "outputs": [
    {
     "data": {
      "text/plain": [
       "id                       0\n",
       "week                     0\n",
       "center_id                0\n",
       "meal_id                  0\n",
       "checkout_price           0\n",
       "base_price               0\n",
       "emailer_for_promotion    0\n",
       "homepage_featured        0\n",
       "num_orders               0\n",
       "dtype: int64"
      ]
     },
     "execution_count": 81,
     "metadata": {},
     "output_type": "execute_result"
    }
   ],
   "source": [
    "#To check number of null or missing values\n",
    "train.isnull().sum()"
   ]
  },
  {
   "cell_type": "code",
   "execution_count": 82,
   "id": "e1db633f",
   "metadata": {},
   "outputs": [],
   "source": [
    "#reading and merging .csv files\n",
    "meal_info=pd.read_csv(\"C:\\\\Users\\\\Lenovo\\\\Desktop\\\\Dataset\\\\meal_info.csv\")\n",
    "center_info=pd.read_csv(\"C:\\\\Users\\\\Lenovo\\\\Desktop\\\\Dataset\\\\fulfilment_center_info.csv\")"
   ]
  },
  {
   "cell_type": "code",
   "execution_count": 83,
   "id": "e8a2cd87",
   "metadata": {},
   "outputs": [
    {
     "data": {
      "text/html": [
       "<div>\n",
       "<style scoped>\n",
       "    .dataframe tbody tr th:only-of-type {\n",
       "        vertical-align: middle;\n",
       "    }\n",
       "\n",
       "    .dataframe tbody tr th {\n",
       "        vertical-align: top;\n",
       "    }\n",
       "\n",
       "    .dataframe thead th {\n",
       "        text-align: right;\n",
       "    }\n",
       "</style>\n",
       "<table border=\"1\" class=\"dataframe\">\n",
       "  <thead>\n",
       "    <tr style=\"text-align: right;\">\n",
       "      <th></th>\n",
       "      <th>id</th>\n",
       "      <th>week</th>\n",
       "      <th>center_id</th>\n",
       "      <th>meal_id</th>\n",
       "      <th>checkout_price</th>\n",
       "      <th>base_price</th>\n",
       "      <th>emailer_for_promotion</th>\n",
       "      <th>homepage_featured</th>\n",
       "      <th>num_orders</th>\n",
       "      <th>category</th>\n",
       "      <th>cuisine</th>\n",
       "      <th>city_code</th>\n",
       "      <th>region_code</th>\n",
       "      <th>center_type</th>\n",
       "      <th>op_area</th>\n",
       "    </tr>\n",
       "  </thead>\n",
       "  <tbody>\n",
       "    <tr>\n",
       "      <th>0</th>\n",
       "      <td>1379560</td>\n",
       "      <td>1</td>\n",
       "      <td>55</td>\n",
       "      <td>1885</td>\n",
       "      <td>136.83</td>\n",
       "      <td>152.29</td>\n",
       "      <td>0</td>\n",
       "      <td>0</td>\n",
       "      <td>177</td>\n",
       "      <td>Beverages</td>\n",
       "      <td>Thai</td>\n",
       "      <td>647</td>\n",
       "      <td>56</td>\n",
       "      <td>TYPE_C</td>\n",
       "      <td>2.0</td>\n",
       "    </tr>\n",
       "    <tr>\n",
       "      <th>1</th>\n",
       "      <td>1018704</td>\n",
       "      <td>2</td>\n",
       "      <td>55</td>\n",
       "      <td>1885</td>\n",
       "      <td>135.83</td>\n",
       "      <td>152.29</td>\n",
       "      <td>0</td>\n",
       "      <td>0</td>\n",
       "      <td>323</td>\n",
       "      <td>Beverages</td>\n",
       "      <td>Thai</td>\n",
       "      <td>647</td>\n",
       "      <td>56</td>\n",
       "      <td>TYPE_C</td>\n",
       "      <td>2.0</td>\n",
       "    </tr>\n",
       "    <tr>\n",
       "      <th>2</th>\n",
       "      <td>1196273</td>\n",
       "      <td>3</td>\n",
       "      <td>55</td>\n",
       "      <td>1885</td>\n",
       "      <td>132.92</td>\n",
       "      <td>133.92</td>\n",
       "      <td>0</td>\n",
       "      <td>0</td>\n",
       "      <td>96</td>\n",
       "      <td>Beverages</td>\n",
       "      <td>Thai</td>\n",
       "      <td>647</td>\n",
       "      <td>56</td>\n",
       "      <td>TYPE_C</td>\n",
       "      <td>2.0</td>\n",
       "    </tr>\n",
       "    <tr>\n",
       "      <th>3</th>\n",
       "      <td>1116527</td>\n",
       "      <td>4</td>\n",
       "      <td>55</td>\n",
       "      <td>1885</td>\n",
       "      <td>135.86</td>\n",
       "      <td>134.86</td>\n",
       "      <td>0</td>\n",
       "      <td>0</td>\n",
       "      <td>163</td>\n",
       "      <td>Beverages</td>\n",
       "      <td>Thai</td>\n",
       "      <td>647</td>\n",
       "      <td>56</td>\n",
       "      <td>TYPE_C</td>\n",
       "      <td>2.0</td>\n",
       "    </tr>\n",
       "    <tr>\n",
       "      <th>4</th>\n",
       "      <td>1343872</td>\n",
       "      <td>5</td>\n",
       "      <td>55</td>\n",
       "      <td>1885</td>\n",
       "      <td>146.50</td>\n",
       "      <td>147.50</td>\n",
       "      <td>0</td>\n",
       "      <td>0</td>\n",
       "      <td>215</td>\n",
       "      <td>Beverages</td>\n",
       "      <td>Thai</td>\n",
       "      <td>647</td>\n",
       "      <td>56</td>\n",
       "      <td>TYPE_C</td>\n",
       "      <td>2.0</td>\n",
       "    </tr>\n",
       "  </tbody>\n",
       "</table>\n",
       "</div>"
      ],
      "text/plain": [
       "        id  week  center_id  meal_id  checkout_price  base_price  \\\n",
       "0  1379560     1         55     1885          136.83      152.29   \n",
       "1  1018704     2         55     1885          135.83      152.29   \n",
       "2  1196273     3         55     1885          132.92      133.92   \n",
       "3  1116527     4         55     1885          135.86      134.86   \n",
       "4  1343872     5         55     1885          146.50      147.50   \n",
       "\n",
       "   emailer_for_promotion  homepage_featured  num_orders   category cuisine  \\\n",
       "0                      0                  0         177  Beverages    Thai   \n",
       "1                      0                  0         323  Beverages    Thai   \n",
       "2                      0                  0          96  Beverages    Thai   \n",
       "3                      0                  0         163  Beverages    Thai   \n",
       "4                      0                  0         215  Beverages    Thai   \n",
       "\n",
       "   city_code  region_code center_type  op_area  \n",
       "0        647           56      TYPE_C      2.0  \n",
       "1        647           56      TYPE_C      2.0  \n",
       "2        647           56      TYPE_C      2.0  \n",
       "3        647           56      TYPE_C      2.0  \n",
       "4        647           56      TYPE_C      2.0  "
      ]
     },
     "execution_count": 83,
     "metadata": {},
     "output_type": "execute_result"
    }
   ],
   "source": [
    "trainfinal= pd.merge(train, meal_info, on=\"meal_id\", how=\"outer\")\n",
    "trainfinal=pd.merge(trainfinal,center_info,on=\"center_id\", how=\"outer\")\n",
    "trainfinal.head()\n"
   ]
  },
  {
   "cell_type": "code",
   "execution_count": 84,
   "id": "07eca059",
   "metadata": {},
   "outputs": [],
   "source": [
    "#Dropping the columns\n",
    "trainfinal=trainfinal.drop(['center_id','meal_id'],axis=1)"
   ]
  },
  {
   "cell_type": "code",
   "execution_count": 85,
   "id": "15a66be9",
   "metadata": {},
   "outputs": [
    {
     "data": {
      "text/html": [
       "<div>\n",
       "<style scoped>\n",
       "    .dataframe tbody tr th:only-of-type {\n",
       "        vertical-align: middle;\n",
       "    }\n",
       "\n",
       "    .dataframe tbody tr th {\n",
       "        vertical-align: top;\n",
       "    }\n",
       "\n",
       "    .dataframe thead th {\n",
       "        text-align: right;\n",
       "    }\n",
       "</style>\n",
       "<table border=\"1\" class=\"dataframe\">\n",
       "  <thead>\n",
       "    <tr style=\"text-align: right;\">\n",
       "      <th></th>\n",
       "      <th>id</th>\n",
       "      <th>week</th>\n",
       "      <th>checkout_price</th>\n",
       "      <th>base_price</th>\n",
       "      <th>emailer_for_promotion</th>\n",
       "      <th>homepage_featured</th>\n",
       "      <th>num_orders</th>\n",
       "      <th>category</th>\n",
       "      <th>cuisine</th>\n",
       "      <th>city_code</th>\n",
       "      <th>region_code</th>\n",
       "      <th>center_type</th>\n",
       "      <th>op_area</th>\n",
       "    </tr>\n",
       "  </thead>\n",
       "  <tbody>\n",
       "    <tr>\n",
       "      <th>0</th>\n",
       "      <td>1379560</td>\n",
       "      <td>1</td>\n",
       "      <td>136.83</td>\n",
       "      <td>152.29</td>\n",
       "      <td>0</td>\n",
       "      <td>0</td>\n",
       "      <td>177</td>\n",
       "      <td>Beverages</td>\n",
       "      <td>Thai</td>\n",
       "      <td>647</td>\n",
       "      <td>56</td>\n",
       "      <td>TYPE_C</td>\n",
       "      <td>2.0</td>\n",
       "    </tr>\n",
       "    <tr>\n",
       "      <th>1</th>\n",
       "      <td>1018704</td>\n",
       "      <td>2</td>\n",
       "      <td>135.83</td>\n",
       "      <td>152.29</td>\n",
       "      <td>0</td>\n",
       "      <td>0</td>\n",
       "      <td>323</td>\n",
       "      <td>Beverages</td>\n",
       "      <td>Thai</td>\n",
       "      <td>647</td>\n",
       "      <td>56</td>\n",
       "      <td>TYPE_C</td>\n",
       "      <td>2.0</td>\n",
       "    </tr>\n",
       "    <tr>\n",
       "      <th>2</th>\n",
       "      <td>1196273</td>\n",
       "      <td>3</td>\n",
       "      <td>132.92</td>\n",
       "      <td>133.92</td>\n",
       "      <td>0</td>\n",
       "      <td>0</td>\n",
       "      <td>96</td>\n",
       "      <td>Beverages</td>\n",
       "      <td>Thai</td>\n",
       "      <td>647</td>\n",
       "      <td>56</td>\n",
       "      <td>TYPE_C</td>\n",
       "      <td>2.0</td>\n",
       "    </tr>\n",
       "    <tr>\n",
       "      <th>3</th>\n",
       "      <td>1116527</td>\n",
       "      <td>4</td>\n",
       "      <td>135.86</td>\n",
       "      <td>134.86</td>\n",
       "      <td>0</td>\n",
       "      <td>0</td>\n",
       "      <td>163</td>\n",
       "      <td>Beverages</td>\n",
       "      <td>Thai</td>\n",
       "      <td>647</td>\n",
       "      <td>56</td>\n",
       "      <td>TYPE_C</td>\n",
       "      <td>2.0</td>\n",
       "    </tr>\n",
       "    <tr>\n",
       "      <th>4</th>\n",
       "      <td>1343872</td>\n",
       "      <td>5</td>\n",
       "      <td>146.50</td>\n",
       "      <td>147.50</td>\n",
       "      <td>0</td>\n",
       "      <td>0</td>\n",
       "      <td>215</td>\n",
       "      <td>Beverages</td>\n",
       "      <td>Thai</td>\n",
       "      <td>647</td>\n",
       "      <td>56</td>\n",
       "      <td>TYPE_C</td>\n",
       "      <td>2.0</td>\n",
       "    </tr>\n",
       "  </tbody>\n",
       "</table>\n",
       "</div>"
      ],
      "text/plain": [
       "        id  week  checkout_price  base_price  emailer_for_promotion  \\\n",
       "0  1379560     1          136.83      152.29                      0   \n",
       "1  1018704     2          135.83      152.29                      0   \n",
       "2  1196273     3          132.92      133.92                      0   \n",
       "3  1116527     4          135.86      134.86                      0   \n",
       "4  1343872     5          146.50      147.50                      0   \n",
       "\n",
       "   homepage_featured  num_orders   category cuisine  city_code  region_code  \\\n",
       "0                  0         177  Beverages    Thai        647           56   \n",
       "1                  0         323  Beverages    Thai        647           56   \n",
       "2                  0          96  Beverages    Thai        647           56   \n",
       "3                  0         163  Beverages    Thai        647           56   \n",
       "4                  0         215  Beverages    Thai        647           56   \n",
       "\n",
       "  center_type  op_area  \n",
       "0      TYPE_C      2.0  \n",
       "1      TYPE_C      2.0  \n",
       "2      TYPE_C      2.0  \n",
       "3      TYPE_C      2.0  \n",
       "4      TYPE_C      2.0  "
      ]
     },
     "execution_count": 85,
     "metadata": {},
     "output_type": "execute_result"
    }
   ],
   "source": [
    "trainfinal.head()"
   ]
  },
  {
   "cell_type": "code",
   "execution_count": 86,
   "id": "dd7ee467",
   "metadata": {},
   "outputs": [
    {
     "name": "stdout",
     "output_type": "stream",
     "text": [
      "['id', 'week', 'checkout_price', 'base_price', 'emailer_for_promotion', 'homepage_featured', 'num_orders', 'category', 'cuisine', 'city_code', 'region_code', 'center_type', 'op_area']\n"
     ]
    }
   ],
   "source": [
    "cols=trainfinal.columns.tolist()\n",
    "print(cols)"
   ]
  },
  {
   "cell_type": "code",
   "execution_count": 87,
   "id": "656509c8",
   "metadata": {},
   "outputs": [
    {
     "name": "stdout",
     "output_type": "stream",
     "text": [
      "['id', 'week', 'city_code', 'region_code', 'center_type', 'op_area', 'category', 'cuisine', 'checkout_price', 'base_price', 'emailer_for_promotion', 'homepage_featured', 'num_orders']\n"
     ]
    }
   ],
   "source": [
    "cols=cols[:2]+cols[9:]+cols[7:9]+cols[2:7]\n",
    "print(cols)"
   ]
  },
  {
   "cell_type": "code",
   "execution_count": 88,
   "id": "bb8edeab",
   "metadata": {},
   "outputs": [
    {
     "data": {
      "text/plain": [
       "id                         int64\n",
       "week                       int64\n",
       "city_code                  int64\n",
       "region_code                int64\n",
       "center_type               object\n",
       "op_area                  float64\n",
       "category                  object\n",
       "cuisine                   object\n",
       "checkout_price           float64\n",
       "base_price               float64\n",
       "emailer_for_promotion      int64\n",
       "homepage_featured          int64\n",
       "num_orders                 int64\n",
       "dtype: object"
      ]
     },
     "execution_count": 88,
     "metadata": {},
     "output_type": "execute_result"
    }
   ],
   "source": [
    "trainfinal=trainfinal[cols]\n",
    "trainfinal.dtypes"
   ]
  },
  {
   "cell_type": "code",
   "execution_count": 89,
   "id": "c126742f",
   "metadata": {},
   "outputs": [],
   "source": [
    "#Label encoding\n",
    "from sklearn.preprocessing import LabelEncoder"
   ]
  },
  {
   "cell_type": "code",
   "execution_count": 90,
   "id": "fdd90ccd",
   "metadata": {},
   "outputs": [],
   "source": [
    "lb1=LabelEncoder()\n",
    "trainfinal['center_type']=lb1.fit_transform(trainfinal['center_type'])\n",
    "lb2=LabelEncoder()\n",
    "trainfinal['category']=lb2.fit_transform(trainfinal['category'])\n",
    "lb3=LabelEncoder()\n",
    "trainfinal['cuisine']=lb3.fit_transform(trainfinal['cuisine'])"
   ]
  },
  {
   "cell_type": "code",
   "execution_count": 91,
   "id": "3398b27d",
   "metadata": {},
   "outputs": [
    {
     "name": "stdout",
     "output_type": "stream",
     "text": [
      "['Beverages', 'Biryani', 'Desert', 'Extras', 'Fish', 'Other Snacks', 'Pasta', 'Pizza', 'Rice Bowl', 'Salad', 'Sandwich', 'Seafood', 'Soup', 'Starters']\n"
     ]
    }
   ],
   "source": [
    "print(list(lb2.classes_))"
   ]
  },
  {
   "cell_type": "code",
   "execution_count": 92,
   "id": "63c9845c",
   "metadata": {},
   "outputs": [
    {
     "name": "stdout",
     "output_type": "stream",
     "text": [
      "['Continental', 'Indian', 'Italian', 'Thai']\n"
     ]
    }
   ],
   "source": [
    "print(list(lb3.classes_))"
   ]
  },
  {
   "cell_type": "code",
   "execution_count": 93,
   "id": "15f64ef8",
   "metadata": {},
   "outputs": [
    {
     "data": {
      "text/html": [
       "<div>\n",
       "<style scoped>\n",
       "    .dataframe tbody tr th:only-of-type {\n",
       "        vertical-align: middle;\n",
       "    }\n",
       "\n",
       "    .dataframe tbody tr th {\n",
       "        vertical-align: top;\n",
       "    }\n",
       "\n",
       "    .dataframe thead th {\n",
       "        text-align: right;\n",
       "    }\n",
       "</style>\n",
       "<table border=\"1\" class=\"dataframe\">\n",
       "  <thead>\n",
       "    <tr style=\"text-align: right;\">\n",
       "      <th></th>\n",
       "      <th>id</th>\n",
       "      <th>week</th>\n",
       "      <th>city_code</th>\n",
       "      <th>region_code</th>\n",
       "      <th>center_type</th>\n",
       "      <th>op_area</th>\n",
       "      <th>category</th>\n",
       "      <th>cuisine</th>\n",
       "      <th>checkout_price</th>\n",
       "      <th>base_price</th>\n",
       "      <th>emailer_for_promotion</th>\n",
       "      <th>homepage_featured</th>\n",
       "      <th>num_orders</th>\n",
       "    </tr>\n",
       "  </thead>\n",
       "  <tbody>\n",
       "    <tr>\n",
       "      <th>0</th>\n",
       "      <td>1379560</td>\n",
       "      <td>1</td>\n",
       "      <td>647</td>\n",
       "      <td>56</td>\n",
       "      <td>2</td>\n",
       "      <td>2.0</td>\n",
       "      <td>0</td>\n",
       "      <td>3</td>\n",
       "      <td>136.83</td>\n",
       "      <td>152.29</td>\n",
       "      <td>0</td>\n",
       "      <td>0</td>\n",
       "      <td>177</td>\n",
       "    </tr>\n",
       "    <tr>\n",
       "      <th>1</th>\n",
       "      <td>1018704</td>\n",
       "      <td>2</td>\n",
       "      <td>647</td>\n",
       "      <td>56</td>\n",
       "      <td>2</td>\n",
       "      <td>2.0</td>\n",
       "      <td>0</td>\n",
       "      <td>3</td>\n",
       "      <td>135.83</td>\n",
       "      <td>152.29</td>\n",
       "      <td>0</td>\n",
       "      <td>0</td>\n",
       "      <td>323</td>\n",
       "    </tr>\n",
       "    <tr>\n",
       "      <th>2</th>\n",
       "      <td>1196273</td>\n",
       "      <td>3</td>\n",
       "      <td>647</td>\n",
       "      <td>56</td>\n",
       "      <td>2</td>\n",
       "      <td>2.0</td>\n",
       "      <td>0</td>\n",
       "      <td>3</td>\n",
       "      <td>132.92</td>\n",
       "      <td>133.92</td>\n",
       "      <td>0</td>\n",
       "      <td>0</td>\n",
       "      <td>96</td>\n",
       "    </tr>\n",
       "    <tr>\n",
       "      <th>3</th>\n",
       "      <td>1116527</td>\n",
       "      <td>4</td>\n",
       "      <td>647</td>\n",
       "      <td>56</td>\n",
       "      <td>2</td>\n",
       "      <td>2.0</td>\n",
       "      <td>0</td>\n",
       "      <td>3</td>\n",
       "      <td>135.86</td>\n",
       "      <td>134.86</td>\n",
       "      <td>0</td>\n",
       "      <td>0</td>\n",
       "      <td>163</td>\n",
       "    </tr>\n",
       "    <tr>\n",
       "      <th>4</th>\n",
       "      <td>1343872</td>\n",
       "      <td>5</td>\n",
       "      <td>647</td>\n",
       "      <td>56</td>\n",
       "      <td>2</td>\n",
       "      <td>2.0</td>\n",
       "      <td>0</td>\n",
       "      <td>3</td>\n",
       "      <td>146.50</td>\n",
       "      <td>147.50</td>\n",
       "      <td>0</td>\n",
       "      <td>0</td>\n",
       "      <td>215</td>\n",
       "    </tr>\n",
       "  </tbody>\n",
       "</table>\n",
       "</div>"
      ],
      "text/plain": [
       "        id  week  city_code  region_code  center_type  op_area  category  \\\n",
       "0  1379560     1        647           56            2      2.0         0   \n",
       "1  1018704     2        647           56            2      2.0         0   \n",
       "2  1196273     3        647           56            2      2.0         0   \n",
       "3  1116527     4        647           56            2      2.0         0   \n",
       "4  1343872     5        647           56            2      2.0         0   \n",
       "\n",
       "   cuisine  checkout_price  base_price  emailer_for_promotion  \\\n",
       "0        3          136.83      152.29                      0   \n",
       "1        3          135.83      152.29                      0   \n",
       "2        3          132.92      133.92                      0   \n",
       "3        3          135.86      134.86                      0   \n",
       "4        3          146.50      147.50                      0   \n",
       "\n",
       "   homepage_featured  num_orders  \n",
       "0                  0         177  \n",
       "1                  0         323  \n",
       "2                  0          96  \n",
       "3                  0         163  \n",
       "4                  0         215  "
      ]
     },
     "execution_count": 93,
     "metadata": {},
     "output_type": "execute_result"
    }
   ],
   "source": [
    "trainfinal.head()"
   ]
  },
  {
   "cell_type": "code",
   "execution_count": 94,
   "id": "7054ab1d",
   "metadata": {},
   "outputs": [
    {
     "data": {
      "text/plain": [
       "(456548, 13)"
      ]
     },
     "execution_count": 94,
     "metadata": {},
     "output_type": "execute_result"
    }
   ],
   "source": [
    "trainfinal.shape"
   ]
  },
  {
   "cell_type": "code",
   "execution_count": 95,
   "id": "c19b19f1",
   "metadata": {},
   "outputs": [
    {
     "name": "stderr",
     "output_type": "stream",
     "text": [
      "C:\\Users\\Lenovo\\anaconda3\\lib\\site-packages\\seaborn\\distributions.py:2619: FutureWarning: `distplot` is a deprecated function and will be removed in a future version. Please adapt your code to use either `displot` (a figure-level function with similar flexibility) or `histplot` (an axes-level function for histograms).\n",
      "  warnings.warn(msg, FutureWarning)\n"
     ]
    },
    {
     "data": {
      "text/plain": [
       "Text(0.5, 1.0, 'num_orders Distribution')"
      ]
     },
     "execution_count": 95,
     "metadata": {},
     "output_type": "execute_result"
    },
    {
     "data": {
      "image/png": "[encoded data removed]",
      "text/plain": [
       "<Figure size 864x504 with 1 Axes>"
      ]
     },
     "metadata": {},
     "output_type": "display_data"
    }
   ],
   "source": [
    "#Data Visualization\n",
    "plt.style.use('fivethirtyeight')\n",
    "plt.figure(figsize=(12,7))\n",
    "sns.distplot(trainfinal.num_orders,bins=25)\n",
    "plt.xlabel(\"num_orders\")\n",
    "plt.ylabel(\"Number of Buyers\")\n",
    "plt.title(\"num_orders Distribution\")"
   ]
  },
  {
   "cell_type": "code",
   "execution_count": 96,
   "id": "82858963",
   "metadata": {},
   "outputs": [
    {
     "data": {
      "text/plain": [
       "Index(['num_orders', 'homepage_featured', 'emailer_for_promotion', 'op_area',\n",
       "       'cuisine', 'city_code', 'region_code', 'category'],\n",
       "      dtype='object')"
      ]
     },
     "execution_count": 96,
     "metadata": {},
     "output_type": "execute_result"
    }
   ],
   "source": [
    "trainfinal2=trainfinal.drop(['id'],axis=1)\n",
    "correlation=trainfinal2.corr(method='pearson')\n",
    "columns=correlation.nlargest(8,'num_orders').index\n",
    "columns"
   ]
  },
  {
   "cell_type": "code",
   "execution_count": 97,
   "id": "a02e750c",
   "metadata": {},
   "outputs": [
    {
     "data": {
      "image/png": "[encoded data removed]",
      "text/plain": [
       "<Figure size 432x288 with 2 Axes>"
      ]
     },
     "metadata": {},
     "output_type": "display_data"
    }
   ],
   "source": [
    "correlation_map=np.corrcoef(trainfinal2[columns].values.T)\n",
    "sns.set(font_scale=1.0)\n",
    "heatmap=sns.heatmap(correlation_map,cbar=True,annot=True,square=True,fmt='.2f',yticklabels=columns.values,xticklabels=columns.values)\n",
    "plt.show()"
   ]
  },
  {
   "cell_type": "code",
   "execution_count": 98,
   "id": "55c6d1e1",
   "metadata": {},
   "outputs": [],
   "source": [
    "#Splitting the dataset into dependent and independent variable\n",
    "features=columns.drop(['num_orders'])\n",
    "trainfinal3=trainfinal[features]\n",
    "X=trainfinal3.values\n",
    "y=trainfinal['num_orders'].values"
   ]
  },
  {
   "cell_type": "code",
   "execution_count": 99,
   "id": "605541a2",
   "metadata": {},
   "outputs": [
    {
     "data": {
      "text/html": [
       "<div>\n",
       "<style scoped>\n",
       "    .dataframe tbody tr th:only-of-type {\n",
       "        vertical-align: middle;\n",
       "    }\n",
       "\n",
       "    .dataframe tbody tr th {\n",
       "        vertical-align: top;\n",
       "    }\n",
       "\n",
       "    .dataframe thead th {\n",
       "        text-align: right;\n",
       "    }\n",
       "</style>\n",
       "<table border=\"1\" class=\"dataframe\">\n",
       "  <thead>\n",
       "    <tr style=\"text-align: right;\">\n",
       "      <th></th>\n",
       "      <th>homepage_featured</th>\n",
       "      <th>emailer_for_promotion</th>\n",
       "      <th>op_area</th>\n",
       "      <th>cuisine</th>\n",
       "      <th>city_code</th>\n",
       "      <th>region_code</th>\n",
       "      <th>category</th>\n",
       "    </tr>\n",
       "  </thead>\n",
       "  <tbody>\n",
       "    <tr>\n",
       "      <th>0</th>\n",
       "      <td>0</td>\n",
       "      <td>0</td>\n",
       "      <td>2.0</td>\n",
       "      <td>3</td>\n",
       "      <td>647</td>\n",
       "      <td>56</td>\n",
       "      <td>0</td>\n",
       "    </tr>\n",
       "    <tr>\n",
       "      <th>1</th>\n",
       "      <td>0</td>\n",
       "      <td>0</td>\n",
       "      <td>2.0</td>\n",
       "      <td>3</td>\n",
       "      <td>647</td>\n",
       "      <td>56</td>\n",
       "      <td>0</td>\n",
       "    </tr>\n",
       "    <tr>\n",
       "      <th>2</th>\n",
       "      <td>0</td>\n",
       "      <td>0</td>\n",
       "      <td>2.0</td>\n",
       "      <td>3</td>\n",
       "      <td>647</td>\n",
       "      <td>56</td>\n",
       "      <td>0</td>\n",
       "    </tr>\n",
       "    <tr>\n",
       "      <th>3</th>\n",
       "      <td>0</td>\n",
       "      <td>0</td>\n",
       "      <td>2.0</td>\n",
       "      <td>3</td>\n",
       "      <td>647</td>\n",
       "      <td>56</td>\n",
       "      <td>0</td>\n",
       "    </tr>\n",
       "    <tr>\n",
       "      <th>4</th>\n",
       "      <td>0</td>\n",
       "      <td>0</td>\n",
       "      <td>2.0</td>\n",
       "      <td>3</td>\n",
       "      <td>647</td>\n",
       "      <td>56</td>\n",
       "      <td>0</td>\n",
       "    </tr>\n",
       "  </tbody>\n",
       "</table>\n",
       "</div>"
      ],
      "text/plain": [
       "   homepage_featured  emailer_for_promotion  op_area  cuisine  city_code  \\\n",
       "0                  0                      0      2.0        3        647   \n",
       "1                  0                      0      2.0        3        647   \n",
       "2                  0                      0      2.0        3        647   \n",
       "3                  0                      0      2.0        3        647   \n",
       "4                  0                      0      2.0        3        647   \n",
       "\n",
       "   region_code  category  \n",
       "0           56         0  \n",
       "1           56         0  \n",
       "2           56         0  \n",
       "3           56         0  \n",
       "4           56         0  "
      ]
     },
     "execution_count": 99,
     "metadata": {},
     "output_type": "execute_result"
    }
   ],
   "source": [
    "trainfinal3.head()"
   ]
  },
  {
   "cell_type": "code",
   "execution_count": 100,
   "id": "b2d99959",
   "metadata": {},
   "outputs": [],
   "source": [
    "from sklearn.model_selection import train_test_split\n",
    "X_train,X_val,y_train,y_val=train_test_split(X,y,test_size=0.25)"
   ]
  },
  {
   "cell_type": "code",
   "execution_count": 101,
   "id": "459bef13",
   "metadata": {},
   "outputs": [],
   "source": [
    "from sklearn.linear_model import LinearRegression\n",
    "from sklearn.linear_model import Lasso\n",
    "from sklearn.linear_model import ElasticNet\n",
    "from sklearn.tree import DecisionTreeRegressor\n",
    "from sklearn.neighbors import KNeighborsRegressor\n",
    "from sklearn.ensemble import GradientBoostingRegressor\n",
    "from xgboost import XGBRegressor"
   ]
  },
  {
   "cell_type": "code",
   "execution_count": 102,
   "id": "f1bcfb78",
   "metadata": {},
   "outputs": [
    {
     "name": "stdout",
     "output_type": "stream",
     "text": [
      "RMSLE: 70.00325196366884\n"
     ]
    }
   ],
   "source": [
    "XG=XGBRegressor()\n",
    "XG.fit(X_train,y_train)\n",
    "y_pred=XG.predict(X_val)\n",
    "y_pred[y_pred<0]=0\n",
    "from sklearn import metrics\n",
    "print('RMSLE:',100*np.sqrt(metrics.mean_squared_log_error(y_val,y_pred)))"
   ]
  },
  {
   "cell_type": "code",
   "execution_count": 103,
   "id": "5cf166c5",
   "metadata": {},
   "outputs": [
    {
     "name": "stdout",
     "output_type": "stream",
     "text": [
      "RMSLE: 129.2485766843578\n"
     ]
    }
   ],
   "source": [
    "LR=LinearRegression()\n",
    "LR.fit(X_train,y_train)\n",
    "y_pred=LR.predict(X_val)\n",
    "y_pred[y_pred<0]=0\n",
    "from sklearn import metrics\n",
    "print('RMSLE:',100*np.sqrt(metrics.mean_squared_log_error(y_val,y_pred)))"
   ]
  },
  {
   "cell_type": "code",
   "execution_count": 104,
   "id": "180d9e2e",
   "metadata": {},
   "outputs": [
    {
     "name": "stdout",
     "output_type": "stream",
     "text": [
      "RMSLE: 130.64521028059198\n"
     ]
    }
   ],
   "source": [
    "EN=ElasticNet()\n",
    "EN.fit(X_train,y_train)\n",
    "y_pred=EN.predict(X_val)\n",
    "y_pred[y_pred<0]=0\n",
    "from sklearn import metrics\n",
    "print('RMSLE:',100*np.sqrt(metrics.mean_squared_log_error(y_val,y_pred)))"
   ]
  },
  {
   "cell_type": "code",
   "execution_count": 105,
   "id": "8363de3a",
   "metadata": {},
   "outputs": [
    {
     "name": "stdout",
     "output_type": "stream",
     "text": [
      "RMSLE: 62.77472336668338\n"
     ]
    }
   ],
   "source": [
    "DT=DecisionTreeRegressor()\n",
    "DT.fit(X_train,y_train)\n",
    "y_pred=DT.predict(X_val)\n",
    "y_pred[y_pred<0]=0\n",
    "from sklearn import metrics\n",
    "print('RMSLE:',100*np.sqrt(metrics.mean_squared_log_error(y_val,y_pred)))"
   ]
  },
  {
   "cell_type": "code",
   "execution_count": 106,
   "id": "ac3b78bc",
   "metadata": {},
   "outputs": [
    {
     "name": "stdout",
     "output_type": "stream",
     "text": [
      "RMSLE: 66.5869233770756\n"
     ]
    }
   ],
   "source": [
    "KNN=KNeighborsRegressor()\n",
    "KNN.fit(X_train,y_train)\n",
    "y_pred=KNN.predict(X_val)\n",
    "y_pred[y_pred<0]=0\n",
    "from sklearn import metrics\n",
    "print('RMSLE:',100*np.sqrt(metrics.mean_squared_log_error(y_val,y_pred)))"
   ]
  },
  {
   "cell_type": "code",
   "execution_count": 108,
   "id": "26eaba66",
   "metadata": {},
   "outputs": [
    {
     "name": "stdout",
     "output_type": "stream",
     "text": [
      "RMSLE: 94.72287127760582\n"
     ]
    }
   ],
   "source": [
    "GB=GradientBoostingRegressor()\n",
    "GB.fit(X_train,y_train)\n",
    "y_pred=GB.predict(X_val)\n",
    "y_pred[y_pred<0]=0\n",
    "from sklearn import metrics\n",
    "print('RMSLE:',100*np.sqrt(metrics.mean_squared_log_error(y_val,y_pred)))"
   ]
  },
  {
   "cell_type": "code",
   "execution_count": 109,
   "id": "1785e42e",
   "metadata": {},
   "outputs": [],
   "source": [
    "import pickle\n",
    "pickle.dump(DT,open('fdemand.pkl','wb'))"
   ]
  },
  {
   "cell_type": "code",
   "execution_count": 110,
   "id": "14a570a8",
   "metadata": {},
   "outputs": [],
   "source": [
    "testfinal=pd.merge(test,meal_info,on=\"meal_id\",how=\"outer\")\n",
    "testfinal=pd.merge(testfinal,center_info,on=\"center_id\",how=\"outer\")\n",
    "testfinal=testfinal.drop(['meal_id','center_id'],axis=1)\n",
    "\n",
    "tcols=testfinal.columns.tolist()\n",
    "tcols=tcols[:2]+tcols[8:]+tcols[6:8]+tcols[2:6]\n",
    "testfinal=testfinal[tcols]\n"
   ]
  },
  {
   "cell_type": "code",
   "execution_count": 111,
   "id": "3f4af945",
   "metadata": {},
   "outputs": [],
   "source": [
    "lb1=LabelEncoder()\n",
    "testfinal['center_type']=lb1.fit_transform(testfinal['center_type'])"
   ]
  },
  {
   "cell_type": "code",
   "execution_count": 112,
   "id": "c7d53b0b",
   "metadata": {},
   "outputs": [
    {
     "name": "stdout",
     "output_type": "stream",
     "text": [
      "['TYPE_A', 'TYPE_B', 'TYPE_C']\n"
     ]
    }
   ],
   "source": [
    "print(list(lb1.classes_))"
   ]
  },
  {
   "cell_type": "code",
   "execution_count": 113,
   "id": "db68cd6b",
   "metadata": {},
   "outputs": [],
   "source": [
    "lb2=LabelEncoder()\n",
    "testfinal['category']=lb2.fit_transform(testfinal['category'])"
   ]
  },
  {
   "cell_type": "code",
   "execution_count": 114,
   "id": "84ef754b",
   "metadata": {},
   "outputs": [
    {
     "name": "stdout",
     "output_type": "stream",
     "text": [
      "['Beverages', 'Biryani', 'Desert', 'Extras', 'Fish', 'Other Snacks', 'Pasta', 'Pizza', 'Rice Bowl', 'Salad', 'Sandwich', 'Seafood', 'Soup', 'Starters']\n"
     ]
    }
   ],
   "source": [
    "print(list(lb2.classes_))"
   ]
  },
  {
   "cell_type": "code",
   "execution_count": 115,
   "id": "cdd5910d",
   "metadata": {},
   "outputs": [],
   "source": [
    "lb3=LabelEncoder()\n",
    "testfinal['cuisine']=lb3.fit_transform(testfinal['cuisine'])\n",
    "X_test=testfinal[features].values\n"
   ]
  },
  {
   "cell_type": "code",
   "execution_count": 116,
   "id": "b6fb3958",
   "metadata": {},
   "outputs": [
    {
     "name": "stdout",
     "output_type": "stream",
     "text": [
      "['Continental', 'Indian', 'Italian', 'Thai']\n"
     ]
    }
   ],
   "source": [
    "print(list(lb3.classes_))"
   ]
  },
  {
   "cell_type": "code",
   "execution_count": 117,
   "id": "e717cf84",
   "metadata": {},
   "outputs": [],
   "source": [
    "pred=DT.predict(X_test)\n",
    "y_pred[y_pred<0]=0\n",
    "submit=pd.DataFrame({'id':testfinal['id'],'num_orders':pred})"
   ]
  },
  {
   "cell_type": "code",
   "execution_count": 118,
   "id": "8fda8704",
   "metadata": {},
   "outputs": [],
   "source": [
    "submit.to_csv(\"submission.csv\",index=False)"
   ]
  },
  {
   "cell_type": "code",
   "execution_count": 119,
   "id": "349682ff",
   "metadata": {},
   "outputs": [
    {
     "data": {
      "text/html": [
       "<div>\n",
       "<style scoped>\n",
       "    .dataframe tbody tr th:only-of-type {\n",
       "        vertical-align: middle;\n",
       "    }\n",
       "\n",
       "    .dataframe tbody tr th {\n",
       "        vertical-align: top;\n",
       "    }\n",
       "\n",
       "    .dataframe thead th {\n",
       "        text-align: right;\n",
       "    }\n",
       "</style>\n",
       "<table border=\"1\" class=\"dataframe\">\n",
       "  <thead>\n",
       "    <tr style=\"text-align: right;\">\n",
       "      <th></th>\n",
       "      <th>id</th>\n",
       "      <th>num_orders</th>\n",
       "    </tr>\n",
       "  </thead>\n",
       "  <tbody>\n",
       "    <tr>\n",
       "      <th>count</th>\n",
       "      <td>3.257300e+04</td>\n",
       "      <td>32573.000000</td>\n",
       "    </tr>\n",
       "    <tr>\n",
       "      <th>mean</th>\n",
       "      <td>1.248476e+06</td>\n",
       "      <td>263.355482</td>\n",
       "    </tr>\n",
       "    <tr>\n",
       "      <th>std</th>\n",
       "      <td>1.441580e+05</td>\n",
       "      <td>368.224603</td>\n",
       "    </tr>\n",
       "    <tr>\n",
       "      <th>min</th>\n",
       "      <td>1.000085e+06</td>\n",
       "      <td>15.533333</td>\n",
       "    </tr>\n",
       "    <tr>\n",
       "      <th>25%</th>\n",
       "      <td>1.123969e+06</td>\n",
       "      <td>63.490196</td>\n",
       "    </tr>\n",
       "    <tr>\n",
       "      <th>50%</th>\n",
       "      <td>1.247296e+06</td>\n",
       "      <td>146.963964</td>\n",
       "    </tr>\n",
       "    <tr>\n",
       "      <th>75%</th>\n",
       "      <td>1.372971e+06</td>\n",
       "      <td>322.589286</td>\n",
       "    </tr>\n",
       "    <tr>\n",
       "      <th>max</th>\n",
       "      <td>1.499996e+06</td>\n",
       "      <td>6219.052632</td>\n",
       "    </tr>\n",
       "  </tbody>\n",
       "</table>\n",
       "</div>"
      ],
      "text/plain": [
       "                 id    num_orders\n",
       "count  3.257300e+04  32573.000000\n",
       "mean   1.248476e+06    263.355482\n",
       "std    1.441580e+05    368.224603\n",
       "min    1.000085e+06     15.533333\n",
       "25%    1.123969e+06     63.490196\n",
       "50%    1.247296e+06    146.963964\n",
       "75%    1.372971e+06    322.589286\n",
       "max    1.499996e+06   6219.052632"
      ]
     },
     "execution_count": 119,
     "metadata": {},
     "output_type": "execute_result"
    }
   ],
   "source": [
    "submit.describe()"
   ]
  },
  {
   "cell_type": "code",
   "execution_count": null,
   "id": "68a2331c",
   "metadata": {},
   "outputs": [],
   "source": []
  }
 ],
 "metadata": {
  "kernelspec": {
   "display_name": "Python 3 (ipykernel)",
   "language": "python",
   "name": "python3"
  },
  "language_info": {
   "codemirror_mode": {
    "name": "ipython",
    "version": 3
   },
   "file_extension": ".py",
   "mimetype": "text/x-python",
   "name": "python",
   "nbconvert_exporter": "python",
   "pygments_lexer": "ipython3",
   "version": "3.8.8"
  }
 },
 "nbformat": 4,
 "nbformat_minor": 5
}
